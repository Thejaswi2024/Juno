{
 "cells": [
  {
   "cell_type": "code",
   "execution_count": 1,
   "id": "656c43d9-525f-4f40-87e6-a74bf52ea76f",
   "metadata": {},
   "outputs": [],
   "source": [
    "import json\n",
    "import os\n",
    "import sys\n",
    "\n",
    "import boto3\n",
    "import botocore\n",
    "\n",
    "boto3_bedrock = boto3.client('bedrock-runtime')"
   ]
  },
  {
   "cell_type": "code",
   "execution_count": 2,
   "id": "2dc61f97-6a8c-4d6f-81ee-15628d6be20e",
   "metadata": {},
   "outputs": [],
   "source": [
    "from langchain_aws import ChatBedrock\n",
    "\n",
    "llm = ChatBedrock(\n",
    "    model_id=\"anthropic.claude-3-5-sonnet-20241022-v2:0\",\n",
    "    model_kwargs={\n",
    "        \"max_tokens\": 2000,\n",
    "        \"temperature\": 0, # Using 0 to get reproducible results\n",
    "        \"stop_sequences\": [\"\\n\\nHuman:\"]\n",
    "    }\n",
    ")"
   ]
  },
  {
   "cell_type": "code",
   "execution_count": 3,
   "id": "8e3bce42-785f-4008-b3c2-7e515304a497",
   "metadata": {},
   "outputs": [],
   "source": [
    "import pandas as pd\n",
    "df = pd.read_csv('Top Indian Places to Visit.csv') "
   ]
  },
  {
   "cell_type": "code",
   "execution_count": 4,
   "id": "7a613922-49ee-407c-9073-2570c4c3a12d",
   "metadata": {},
   "outputs": [
    {
     "data": {
      "text/html": [
       "<div>\n",
       "<style scoped>\n",
       "    .dataframe tbody tr th:only-of-type {\n",
       "        vertical-align: middle;\n",
       "    }\n",
       "\n",
       "    .dataframe tbody tr th {\n",
       "        vertical-align: top;\n",
       "    }\n",
       "\n",
       "    .dataframe thead th {\n",
       "        text-align: right;\n",
       "    }\n",
       "</style>\n",
       "<table border=\"1\" class=\"dataframe\">\n",
       "  <thead>\n",
       "    <tr style=\"text-align: right;\">\n",
       "      <th></th>\n",
       "      <th>Name</th>\n",
       "      <th>Significance</th>\n",
       "      <th>Type</th>\n",
       "      <th>Zone</th>\n",
       "      <th>State</th>\n",
       "      <th>City</th>\n",
       "      <th>Establishment Year</th>\n",
       "      <th>time needed to visit in hrs</th>\n",
       "      <th>Google review rating</th>\n",
       "      <th>Entrance Fee in INR</th>\n",
       "      <th>Airport with 50km Radius</th>\n",
       "      <th>Weekly Off</th>\n",
       "      <th>DSLR Allowed</th>\n",
       "      <th>Number of google review in lakhs</th>\n",
       "      <th>Best Time to visit</th>\n",
       "      <th>Crime rate</th>\n",
       "    </tr>\n",
       "  </thead>\n",
       "  <tbody>\n",
       "    <tr>\n",
       "      <th>0</th>\n",
       "      <td>India Gate</td>\n",
       "      <td>Historical</td>\n",
       "      <td>War Memorial</td>\n",
       "      <td>Northern</td>\n",
       "      <td>Delhi</td>\n",
       "      <td>Delhi</td>\n",
       "      <td>1921</td>\n",
       "      <td>0.5</td>\n",
       "      <td>4.6</td>\n",
       "      <td>0</td>\n",
       "      <td>Yes</td>\n",
       "      <td>NaN</td>\n",
       "      <td>Yes</td>\n",
       "      <td>2.60</td>\n",
       "      <td>Evening</td>\n",
       "      <td>NaN</td>\n",
       "    </tr>\n",
       "    <tr>\n",
       "      <th>1</th>\n",
       "      <td>Humayun's Tomb</td>\n",
       "      <td>Historical</td>\n",
       "      <td>Tomb</td>\n",
       "      <td>Northern</td>\n",
       "      <td>Delhi</td>\n",
       "      <td>Delhi</td>\n",
       "      <td>1572</td>\n",
       "      <td>2.0</td>\n",
       "      <td>4.5</td>\n",
       "      <td>30</td>\n",
       "      <td>Yes</td>\n",
       "      <td>NaN</td>\n",
       "      <td>Yes</td>\n",
       "      <td>0.40</td>\n",
       "      <td>Afternoon</td>\n",
       "      <td>NaN</td>\n",
       "    </tr>\n",
       "    <tr>\n",
       "      <th>2</th>\n",
       "      <td>Akshardham Temple</td>\n",
       "      <td>Religious</td>\n",
       "      <td>Temple</td>\n",
       "      <td>Northern</td>\n",
       "      <td>Delhi</td>\n",
       "      <td>Delhi</td>\n",
       "      <td>2005</td>\n",
       "      <td>5.0</td>\n",
       "      <td>4.6</td>\n",
       "      <td>60</td>\n",
       "      <td>Yes</td>\n",
       "      <td>NaN</td>\n",
       "      <td>No</td>\n",
       "      <td>0.40</td>\n",
       "      <td>Afternoon</td>\n",
       "      <td>NaN</td>\n",
       "    </tr>\n",
       "    <tr>\n",
       "      <th>3</th>\n",
       "      <td>Waste to Wonder Park</td>\n",
       "      <td>Environmental</td>\n",
       "      <td>Theme Park</td>\n",
       "      <td>Northern</td>\n",
       "      <td>Delhi</td>\n",
       "      <td>Delhi</td>\n",
       "      <td>2019</td>\n",
       "      <td>2.0</td>\n",
       "      <td>4.1</td>\n",
       "      <td>50</td>\n",
       "      <td>Yes</td>\n",
       "      <td>Monday</td>\n",
       "      <td>Yes</td>\n",
       "      <td>0.27</td>\n",
       "      <td>Evening</td>\n",
       "      <td>NaN</td>\n",
       "    </tr>\n",
       "    <tr>\n",
       "      <th>4</th>\n",
       "      <td>Jantar Mantar</td>\n",
       "      <td>Scientific</td>\n",
       "      <td>Observatory</td>\n",
       "      <td>Northern</td>\n",
       "      <td>Delhi</td>\n",
       "      <td>Delhi</td>\n",
       "      <td>1724</td>\n",
       "      <td>2.0</td>\n",
       "      <td>4.2</td>\n",
       "      <td>15</td>\n",
       "      <td>Yes</td>\n",
       "      <td>NaN</td>\n",
       "      <td>Yes</td>\n",
       "      <td>0.31</td>\n",
       "      <td>Morning</td>\n",
       "      <td>NaN</td>\n",
       "    </tr>\n",
       "  </tbody>\n",
       "</table>\n",
       "</div>"
      ],
      "text/plain": [
       "                   Name   Significance          Type      Zone  State   City  \\\n",
       "0            India Gate     Historical  War Memorial  Northern  Delhi  Delhi   \n",
       "1        Humayun's Tomb     Historical          Tomb  Northern  Delhi  Delhi   \n",
       "2     Akshardham Temple      Religious        Temple  Northern  Delhi  Delhi   \n",
       "3  Waste to Wonder Park  Environmental    Theme Park  Northern  Delhi  Delhi   \n",
       "4         Jantar Mantar     Scientific   Observatory  Northern  Delhi  Delhi   \n",
       "\n",
       "  Establishment Year  time needed to visit in hrs  Google review rating  \\\n",
       "0               1921                          0.5                   4.6   \n",
       "1               1572                          2.0                   4.5   \n",
       "2               2005                          5.0                   4.6   \n",
       "3               2019                          2.0                   4.1   \n",
       "4               1724                          2.0                   4.2   \n",
       "\n",
       "   Entrance Fee in INR Airport with 50km Radius Weekly Off DSLR Allowed  \\\n",
       "0                    0                      Yes        NaN          Yes   \n",
       "1                   30                      Yes        NaN          Yes   \n",
       "2                   60                      Yes        NaN           No   \n",
       "3                   50                      Yes     Monday          Yes   \n",
       "4                   15                      Yes        NaN          Yes   \n",
       "\n",
       "   Number of google review in lakhs Best Time to visit  Crime rate  \n",
       "0                              2.60            Evening         NaN  \n",
       "1                              0.40          Afternoon         NaN  \n",
       "2                              0.40          Afternoon         NaN  \n",
       "3                              0.27            Evening         NaN  \n",
       "4                              0.31            Morning         NaN  "
      ]
     },
     "execution_count": 4,
     "metadata": {},
     "output_type": "execute_result"
    }
   ],
   "source": [
    "df.head()"
   ]
  },
  {
   "cell_type": "code",
   "execution_count": 5,
   "id": "d8004709-accd-415f-810a-bfcbf3373747",
   "metadata": {},
   "outputs": [
    {
     "data": {
      "text/plain": [
       "(325, 16)"
      ]
     },
     "execution_count": 5,
     "metadata": {},
     "output_type": "execute_result"
    }
   ],
   "source": [
    "df.shape"
   ]
  },
  {
   "cell_type": "code",
   "execution_count": 6,
   "id": "5f011b7d-366e-4a99-80fa-def7452b563a",
   "metadata": {},
   "outputs": [],
   "source": [
    "with open('Top Indian Places to Visit.csv','r') as f:\n",
    "    top_indian_places_csv = f.read()\n",
    "    "
   ]
  },
  {
   "cell_type": "code",
   "execution_count": null,
   "id": "0a2186dc-4c0c-40be-b51b-bd28b6d9d139",
   "metadata": {},
   "outputs": [],
   "source": []
  },
  {
   "cell_type": "code",
   "execution_count": null,
   "id": "f8378198-bfb8-4300-a9ef-de3bcf7822b9",
   "metadata": {},
   "outputs": [],
   "source": []
  },
  {
   "cell_type": "code",
   "execution_count": null,
   "id": "94b2fd2a-b98f-4277-8a1d-e968b84fca1e",
   "metadata": {},
   "outputs": [],
   "source": []
  },
  {
   "cell_type": "code",
   "execution_count": 13,
   "id": "84e3efe0-c9d1-415a-a75a-940496e92cf8",
   "metadata": {},
   "outputs": [],
   "source": [
    "SYSTEM_PROMPT = f\"\"\"\n",
    "You are a helpful assistant tasked with helping women travellers in India. Make sure that your recommendations are based on the following data:\n",
    "Only use information from the below list. Do not suggest anything not on the list. Include necessary legal information for foreign visitors.\n",
    "Ask the user is an Indian or foreigner first\n",
    "Speak in a friendly manner. Consider the user's requirement - they may be asking for suggestions as a single woman traveller or a group of travellers.\n",
    "\n",
    "Understand if the user is indian/foreigner. If not mentioned, assume as Indian.\n",
    "Assume the traveller is travelling alone unless specified.\n",
    "Suggest nearby hotels with star rating 3-5 options\n",
    "Respond with the same language as the query.\n",
    "Give top 3 places and ratings for the query\n",
    "Give references with local government suggested tourist website links. Places to visit nearby suggestions. \n",
    "Link as ”https://www.google.co.in/maps/search/”<add the suggested place> and replace with relevant places you suggest, also add a map interface too if possible.\n",
    "Suggest top 2 websites for hotel booking with their links and expected budget.  \n",
    "The system should offer easy access to critical travel information and create a supportive environment for women travelers worldwide.\n",
    "At the end, Add emergency contacts like - Police: 100 Medical Emergency/Ambulance: 102 or 108 Fire: 101 and Women's Helpline: 1091, Nearby Hospital contact number.\n",
    "Also suggest some good hotels nearby which are clean, near to tourist locations with their contact phone numbers. Finally  -  Include necessary legal information for foreign visitors like visa regulation, culture, languages spoken in that place, local food options.  Add women’s safety ratings in that locations.\n",
    "Other 5 suggested place names.\n",
    "\n",
    "Respond in the user suggested language\n",
    "create a table format with real-time location like https://www.google.co.in/maps/search/<add the suggested place> and replace with relevant places you suggest\n",
    "suggest top 2 websites for hotel booking\n",
    "The system should offer easy access to critical travel information and create a supportive environment for women travelers worldwide.\n",
    "Also suggest nearby hotel for each places.\n",
    "Police: 100 Medical Emergency/Ambulance: 102 or 108 Fire: 101 and Women's Helpline: 1091\n",
    "Also suggest some good hotels nearby which are clean, near to tourist locations\n",
    "add safety ratings from google for that place\n",
    "{top_indian_places_csv}\n",
    "\"\"\""
   ]
  },
  {
   "cell_type": "code",
   "execution_count": 8,
   "id": "cfa4a1e2-02ac-48fe-90d0-18b24fb19815",
   "metadata": {},
   "outputs": [],
   "source": [
    "USER_MESSAGE1 = \"\"\"\n",
    "foreigner. I need a travel plan to kerala. traveling alone. Need 5 star hotels only. give suggestion and flight details from bangalore to kerala.\"\"\""
   ]
  },
  {
   "cell_type": "code",
   "execution_count": 46,
   "id": "bbe9b8cb-db28-440a-a158-d4b2d0f1520f",
   "metadata": {},
   "outputs": [],
   "source": [
    "USER_MESSAGE2 = \"\"\"\n",
    "Give good Budget comparision for the top3 hotels in the destination\n",
    "\"\"\""
   ]
  },
  {
   "cell_type": "code",
   "execution_count": 11,
   "id": "57987847-d3af-40b6-995b-2129f45d31a4",
   "metadata": {},
   "outputs": [],
   "source": [
    "def prog():\n",
    "    USER_MESSAGE1 = input()\n",
    "    messages = [\n",
    "    (\n",
    "        \"system\",\n",
    "        SYSTEM_PROMPT,\n",
    "    ),\n",
    "    (\"human\", USER_MESSAGE1),\n",
    "    ]\n",
    "    result = llm.invoke(messages)\n",
    "    print(result.content)"
   ]
  },
  {
   "cell_type": "code",
   "execution_count": 16,
   "id": "a93390cb-79c5-4ed9-9020-a28436ccc085",
   "metadata": {},
   "outputs": [
    {
     "name": "stdin",
     "output_type": "stream",
     "text": [
      " nanage himachal hogabeku next week\n"
     ]
    },
    {
     "name": "stdout",
     "output_type": "stream",
     "text": [
      "ನಮಸ್ಕಾರ! ಹಿಮಾಚಲ ಪ್ರದೇಶಕ್ಕೆ ಸ್ವಾಗತ. ನಿಮಗೆ ಸಹಾಯ ಮಾಡಲು ನಾನು ಇಲ್ಲಿದ್ದೇನೆ.\n",
      "\n",
      "ಟಾಪ್ 3 ಸ್ಥಳಗಳು:\n",
      "1. ಸೊಲಾಂಗ್ ವ್ಯಾಲಿ (4.1/5) - ಮನಾಲಿ\n",
      "2. ದ ರಿಡ್ಜ್ (4.7/5) - ಶಿಮ್ಲಾ \n",
      "3. ಖಜ್ಜಿಯಾರ್ ಲೇಕ್ (4.5/5) - ದಲ್ಹೌಸಿ\n",
      "\n",
      "ಹೋಟೆಲ್ ಬುಕಿಂಗ್ ವೆಬ್‌ಸೈಟ್‌ಗಳು:\n",
      "- MakeMyTrip: https://www.makemytrip.com\n",
      "- Booking.com: https://www.booking.com\n",
      "\n",
      "ಸ್ಥಳಗಳ ನಕ್ಷೆ ಲಿಂಕ್‌ಗಳು:\n",
      "- ಸೊಲಾಂಗ್ ವ್ಯಾಲಿ: https://www.google.co.in/maps/search/Solang+Valley\n",
      "- ದ ರಿಡ್ಜ್: https://www.google.co.in/maps/search/The+Ridge+Shimla\n",
      "- ಖಜ್ಜಿಯಾರ್ ಲೇಕ್: https://www.google.co.in/maps/search/Khajjiar+Lake\n",
      "\n",
      "ಇತರ ಸೂಚಿಸಿದ ಸ್ಥಳಗಳು:\n",
      "- ಕೀ ಮಠ\n",
      "- ಪರಾಗ್ಲೈಡಿಂಗ್ ಸೈಟ್ (ಬೀರ್ ಬಿಲ್ಲಿಂಗ್)\n",
      "- ಟ್ರಿಯುಂಡ್ ಟ್ರೆಕ್\n",
      "\n",
      "ತುರ್ತು ಸಂಪರ್ಕಗಳು:\n",
      "- ಪೊಲೀಸ್: 100\n",
      "- ಆಂಬ್ಯುಲೆನ್ಸ್: 108\n",
      "- ಮಹಿಳಾ ಹೆಲ್ಪ್‌ಲೈನ್: 1091\n",
      "\n",
      "ಸುರಕ್ಷತೆ ಸಲಹೆಗಳು:\n",
      "- ರಾತ್ರಿ ಪ್ರಯಾಣ ತಪ್ಪಿಸಿ\n",
      "- ಮೌಸಮ್ ಮುನ್ಸೂಚನೆ ಪರಿಶೀಲಿಸಿ\n",
      "- ಸ್ಥಳೀಯ ಮಾರ್ಗದರ್ಶಿಗಳನ್ನು ಬಳಸಿ\n",
      "- ಮೊಬೈಲ್ ಚಾರ್ಜರ್ ಮತ್ತು ಪವರ್ ಬ್ಯಾಂಕ್ ಕೊಂಡೊಯ್ಯಿರಿ\n",
      "\n",
      "ಹವಾಮಾನ: ನವೆಂಬರ್-ಫೆಬ್ರವರಿ ತಂಪಾಗಿರುತ್ತದೆ, ಬೆಚ್ಚಗಿನ ಬಟ್ಟೆಗಳನ್ನು ತೆಗೆದುಕೊಳ್ಳಿ.\n",
      "\n",
      "ಭಾಷೆ: ಹಿಂದಿ ಮತ್ತು ಪಹಾಡಿ ಪ್ರಮುಖ ಭಾಷೆಗಳು.\n",
      "\n",
      "ಸ್ಥಳೀಯ ಆಹಾರ: ಸಿದ್ದು, ಮದ್ರ, ಥುಕ್ಪಾ, ಮತ್ತು ಟ್ರೌಟ್ ಮೀನು ಪ್ರಯತ್ನಿಸಿ.\n"
     ]
    }
   ],
   "source": [
    "prog()"
   ]
  },
  {
   "cell_type": "code",
   "execution_count": null,
   "id": "e3eacf43-d4d5-4377-8c51-6ef9b39e9386",
   "metadata": {},
   "outputs": [],
   "source": []
  }
 ],
 "metadata": {
  "kernelspec": {
   "display_name": "Python 3 (ipykernel)",
   "language": "python",
   "name": "python3"
  },
  "language_info": {
   "codemirror_mode": {
    "name": "ipython",
    "version": 3
   },
   "file_extension": ".py",
   "mimetype": "text/x-python",
   "name": "python",
   "nbconvert_exporter": "python",
   "pygments_lexer": "ipython3",
   "version": "3.11.10"
  }
 },
 "nbformat": 4,
 "nbformat_minor": 5
}
